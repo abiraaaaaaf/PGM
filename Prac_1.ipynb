{
 "cells": [
  {
   "cell_type": "code",
   "execution_count": 10,
   "metadata": {
    "collapsed": false
   },
   "outputs": [
    {
     "name": "stdout",
     "output_type": "stream",
     "text": [
      "\n",
      "Calculating P(X,Z2):\n",
      "p(X=0,Z2=0)=0.124900\n",
      "p(X=0,Z2=1)=0.375100\n",
      "p(X=1,Z2=0)=0.242800\n",
      "p(X=1,Z2=1)=0.257200\n",
      "\n",
      "Calculating P(X,Z2):\n",
      "p(X=0,Z2=0)=0.124900\n",
      "p(X=0,Z2=1)=0.417521\n",
      "p(X=1,Z2=0)=0.218131\n",
      "p(X=1,Z2=1)=0.257200\n",
      "\n",
      "Calculating P(Y1|Y2=0,Z1=1):\n",
      "╒══════╤═══════════╕\n",
      "│ Y1   │   phi(Y1) │\n",
      "╞══════╪═══════════╡\n",
      "│ Y1_0 │    0.5645 │\n",
      "├──────┼───────────┤\n",
      "│ Y1_1 │    0.4355 │\n",
      "╘══════╧═══════════╛\n"
     ]
    }
   ],
   "source": [
    "##################################################################question1 practical \n",
    "import pgmpy\n",
    "from pgmpy.models import BayesianModel\n",
    "from pgmpy.factors.discrete import TabularCPD\n",
    "from pgmpy.inference import VariableElimination\n",
    "from pgmpy.inference import Inference\n",
    "\n",
    "\n",
    "prac1Graph = BayesianModel()\n",
    "\n",
    "prac1Graph.add_nodes_from(['X', 'Y1', 'Y2' , 'Y3' , 'Z1' , 'Z2'])\n",
    "prac1Graph.add_edges_from([('X', 'Y1'), ('X', 'Y2'),('X', 'Y3'),('Y1', 'Z1'),('Y1', 'Z2'),('Y2', 'Z1'),('Y2', 'Z2'),('Y3', 'Z1'),('Y3', 'Z2')])\n",
    "\n",
    "X_cpd = TabularCPD('X', 2, [[0.5], [0.5]]) #x uniform\n",
    "\n",
    "Y1givenX_cpd = TabularCPD(variable='Y1',variable_card=2,values=[[0.9,0.2],[0.1, 0.8]], evidence=['X'], evidence_card= [2])\n",
    "\n",
    "Y2givenX_cpd = TabularCPD(variable='Y2',variable_card=2,values=[[0.8,0.4],[0.2,0.6]], evidence=['X'], evidence_card= [2])\n",
    "\n",
    "Y3givenX_cpd = TabularCPD(variable='Y3',variable_card=2,values=[[0.7,0.6],[0.3, 0.4]], evidence=['X'], evidence_card= [2])\n",
    "\n",
    "Z1givenY1Y2Y3_cpd = TabularCPD(variable='Z1',variable_card=2,\n",
    "values=[[0.8 , 0.5 , 0.6 , 0.2 , 0.7 , 0.3 , 0.4 , 0.1],\n",
    "        [0.2, 0.5 , 0.4 , 0.8 , 0.3 , 0.7 , 0.6, 0.9]],\n",
    "evidence=['Y1' , 'Y2' , 'Y3'],evidence_card= [2 , 2, 2])\n",
    "\n",
    "\n",
    "Z2givenY1Y2Y3_cpd = TabularCPD(variable='Z2',variable_card=2,\n",
    "values=[[0.1 , 0.4 , 0.3 , 0.7 , 0.2 , 0.6 , 0.5 , 0.8],\n",
    "        [0.9, 0.6 , 0.7 , 0.3 , 0.8 , 0.4 , 0.5, 0.2]],\n",
    "evidence=['Y1' , 'Y2' , 'Y3'],evidence_card= [2 , 2, 2])\n",
    "\n",
    "\n",
    "prac1Graph.add_cpds(X_cpd,Y1givenX_cpd, Y2givenX_cpd,Y3givenX_cpd, Z1givenY1Y2Y3_cpd,Z2givenY1Y2Y3_cpd)\n",
    "\n",
    "prac1Graph.get_cpds()\n",
    "\n",
    "prac1Graph = VariableElimination(prac1Graph)\n",
    "\n",
    "\n",
    "\n",
    "px=prac1Graph.query(variables=['X'])['X'].values\n",
    "pz2givenx=[prac1Graph.query(variables=['Z2'],evidence ={'X':0})['Z2'].values , \n",
    " prac1Graph.query(variables=['Z2'],evidence ={'X':1})['Z2'].values]\n",
    "\n",
    "\n",
    "pz2=prac1Graph.query(variables=['Z2'])['Z2'].values\n",
    "pxgivenz2=[prac1Graph.query(variables=['X'],evidence ={'Z2':0})['X'].values , \n",
    " prac1Graph.query(variables=['X'],evidence ={'Z2':1})['X'].values]\n",
    "\n",
    "\n",
    "print(\"\")\n",
    "print(\"Calculating P(X,Z2):\")\n",
    "for X in range (2):\n",
    "    for Z2 in range (2):\n",
    "        print(\"p(X=%d,Z2=%d)=%f\" %(X,Z2,px[X]*pz2givenx[X][Z2]))\n",
    "print(\"\")\n",
    "        \n",
    "print(\"Calculating P(X,Z2):\")\n",
    "for X in range (2):\n",
    "    for Z2 in range (2):\n",
    "        print(\"p(X=%d,Z2=%d)=%f\" %(X,Z2,pz2[Z2]*pxgivenz2[X][Z2]))\n",
    "        \n",
    "print(\"\") \n",
    "print(\"Calculating P(Y1|Y2=0,Z1=1):\")\n",
    "pY1givenY2Z1=prac1Graph.query(variables=['Y1'],evidence={'Y2':0,'Z1':1})\n",
    "print(pY1givenY2Z1['Y1'])\n"
   ]
  },
  {
   "cell_type": "code",
   "execution_count": null,
   "metadata": {
    "collapsed": false
   },
   "outputs": [],
   "source": []
  },
  {
   "cell_type": "code",
   "execution_count": null,
   "metadata": {
    "collapsed": true
   },
   "outputs": [],
   "source": []
  }
 ],
 "metadata": {
  "kernelspec": {
   "display_name": "Python 3",
   "language": "python",
   "name": "python3"
  },
  "language_info": {
   "codemirror_mode": {
    "name": "ipython",
    "version": 3
   },
   "file_extension": ".py",
   "mimetype": "text/x-python",
   "name": "python",
   "nbconvert_exporter": "python",
   "pygments_lexer": "ipython3",
   "version": "3.5.1"
  }
 },
 "nbformat": 4,
 "nbformat_minor": 0
}
